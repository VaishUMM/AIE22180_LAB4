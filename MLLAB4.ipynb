{
  "nbformat": 4,
  "nbformat_minor": 0,
  "metadata": {
    "colab": {
      "provenance": []
    },
    "kernelspec": {
      "name": "python3",
      "display_name": "Python 3"
    },
    "language_info": {
      "name": "python"
    }
  },
  "cells": [
    {
      "cell_type": "code",
      "execution_count": 5,
      "metadata": {
        "colab": {
          "base_uri": "https://localhost:8080/"
        },
        "id": "V3X61wmzhnUE",
        "outputId": "b1de9104-8e2a-48bc-cc83-14990965ac52"
      },
      "outputs": [
        {
          "output_type": "stream",
          "name": "stdout",
          "text": [
            "Mean (Centroid) of Class 'Low': Age                     35.412541\n",
            "Gender                   1.508251\n",
            "Air Pollution            2.600660\n",
            "Alcohol_use              2.231023\n",
            "Dust Allergy             3.112211\n",
            "Genetic Risk             2.732673\n",
            "chronic Lung Disease     3.092409\n",
            "Smoking                  3.023102\n",
            "Chest Pain               2.834983\n",
            "Coughing of Blood        2.861386\n",
            "Shortness of Breath      2.498350\n",
            "Wheezing                 2.574257\n",
            "Frequent Cold            2.366337\n",
            "Dry Cough                2.914191\n",
            "dtype: float64\n",
            "Spread (Standard Deviation) of Class 'Low': Age                     12.106708\n",
            "Gender                   0.499932\n",
            "Air Pollution            1.109039\n",
            "Alcohol_use              1.258409\n",
            "Dust Allergy             1.657252\n",
            "Genetic Risk             1.429702\n",
            "chronic Lung Disease     1.693915\n",
            "Smoking                  1.775185\n",
            "Chest Pain               1.820083\n",
            "Coughing of Blood        1.684895\n",
            "Shortness of Breath      1.448510\n",
            "Wheezing                 1.024581\n",
            "Frequent Cold            1.075280\n",
            "Dry Cough                1.450809\n",
            "dtype: float64\n",
            "\n",
            "Mean (Centroid) of Class 'Medium': Age                     38.620482\n",
            "Gender                   1.406627\n",
            "Air Pollution            2.933735\n",
            "Alcohol_use              4.198795\n",
            "Dust Allergy             5.442771\n",
            "Genetic Risk             4.292169\n",
            "chronic Lung Disease     3.963855\n",
            "Smoking                  2.454819\n",
            "Chest Pain               3.753012\n",
            "Coughing of Blood        3.846386\n",
            "Shortness of Breath      4.632530\n",
            "Wheezing                 4.756024\n",
            "Frequent Cold            3.674699\n",
            "Dry Cough                3.695783\n",
            "dtype: float64\n",
            "Spread (Standard Deviation) of Class 'Medium': Age                     12.995618\n",
            "Gender                   0.491204\n",
            "Air Pollution            1.871265\n",
            "Alcohol_use              2.646252\n",
            "Dust Allergy             1.462290\n",
            "Genetic Risk             2.065683\n",
            "chronic Lung Disease     1.603428\n",
            "Smoking                  1.666757\n",
            "Chest Pain               1.771381\n",
            "Coughing of Blood        1.325339\n",
            "Shortness of Breath      1.997867\n",
            "Wheezing                 1.367918\n",
            "Frequent Cold            1.916060\n",
            "Dry Cough                1.815491\n",
            "dtype: float64\n",
            "\n",
            "Distance between centroids of 'Low' and 'Medium' classes: 6.056459744480673\n"
          ]
        }
      ],
      "source": [
        "import pandas as pd\n",
        "import numpy as np\n",
        "\n",
        "# Read the sample data\n",
        "data = pd.read_csv(\"/content/cancer patient data sets.csv\")\n",
        "\n",
        "# Choose two classes (e.g., 'Low' and 'Medium')\n",
        "class1 = data[data['Level'] == 'Low']\n",
        "class2 = data[data['Level'] == 'Medium']\n",
        "\n",
        "# Calculate mean (centroid) for each class\n",
        "centroid1 = np.mean(class1.iloc[:, 2:-1], axis=0)  # Assuming columns 2 onwards are features\n",
        "centroid2 = np.mean(class2.iloc[:, 2:-1], axis=0)\n",
        "\n",
        "# Calculate spread (standard deviation) for each class\n",
        "spread1 = np.std(class1.iloc[:, 2:-1], axis=0)\n",
        "spread2 = np.std(class2.iloc[:, 2:-1], axis=0)\n",
        "\n",
        "# Calculate distance between mean vectors of the two classes\n",
        "distance_between_centroids = np.linalg.norm(centroid1 - centroid2)\n",
        "\n",
        "# Print results\n",
        "print(\"Mean (Centroid) of Class 'Low':\", centroid1)\n",
        "print(\"Spread (Standard Deviation) of Class 'Low':\", spread1)\n",
        "print(\"\\nMean (Centroid) of Class 'Medium':\", centroid2)\n",
        "print(\"Spread (Standard Deviation) of Class 'Medium':\", spread2)\n",
        "print(\"\\nDistance between centroids of 'Low' and 'Medium' classes:\", distance_between_centroids)\n"
      ]
    },
    {
      "cell_type": "markdown",
      "source": [
        "2\n"
      ],
      "metadata": {
        "id": "sZHh6zIyppbz"
      }
    },
    {
      "cell_type": "code",
      "source": [
        "import pandas as pd\n",
        "import numpy as np\n",
        "import matplotlib.pyplot as plt\n",
        "\n",
        "# Read the sample data\n",
        "data = pd.read_csv(\"/content/cancer patient data sets.csv\")\n",
        "\n",
        "# Choose the feature for analysis (e.g., 'Age')\n",
        "feature_data = data['Age']\n",
        "\n",
        "# Plot histogram\n",
        "plt.hist(feature_data, bins=10, edgecolor='black')  # Adjust the number of bins as needed\n",
        "plt.title('Histogram of Age')\n",
        "plt.xlabel('Age')\n",
        "plt.ylabel('Frequency')\n",
        "plt.show()\n",
        "\n",
        "# Calculate mean and variance\n",
        "mean_age = np.mean(feature_data)\n",
        "variance_age = np.var(feature_data)\n",
        "\n",
        "# Print results\n",
        "print(\"Mean Age:\", mean_age)\n",
        "print(\"Variance of Age:\", variance_age)\n",
        "\n"
      ],
      "metadata": {
        "colab": {
          "base_uri": "https://localhost:8080/",
          "height": 507
        },
        "id": "h0MbgWvgpvYX",
        "outputId": "bfa630b1-c7d3-4cb3-ccf9-6a69ec6378ca"
      },
      "execution_count": 6,
      "outputs": [
        {
          "output_type": "display_data",
          "data": {
            "text/plain": [
              "<Figure size 640x480 with 1 Axes>"
            ],
            "image/png": "[encoded data removed]"
          },
          "metadata": {}
        },
        {
          "output_type": "stream",
          "name": "stdout",
          "text": [
            "Mean Age: 37.174\n",
            "Variance of Age: 143.987724\n"
          ]
        }
      ]
    },
    {
      "cell_type": "markdown",
      "source": [
        "3\n"
      ],
      "metadata": {
        "id": "cMfjX7l5p_yL"
      }
    },
    {
      "cell_type": "markdown",
      "source": [],
      "metadata": {
        "id": "4tOnw3vWqI5V"
      }
    },
    {
      "cell_type": "code",
      "source": [
        "import pandas as pd\n",
        "import numpy as np\n",
        "import matplotlib.pyplot as plt\n",
        "\n",
        "# Read the sample data\n",
        "data = pd.read_csv(\"/content/cancer patient data sets.csv\")\n",
        "\n",
        "# Choose two feature vectors for Minkowski distance calculation\n",
        "feature_vector1 = data[['Age', 'Air Pollution']].iloc[0].values\n",
        "feature_vector2 = data[['Age', 'Air Pollution']].iloc[1].values\n",
        "\n",
        "# Calculate Minkowski distance for r from 1 to 10\n",
        "r_values = range(1, 11)\n",
        "distances = [np.linalg.norm(feature_vector1 - feature_vector2, ord=r) for r in r_values]\n",
        "\n",
        "# Plot the Minkowski distance\n",
        "plt.plot(r_values, distances, marker='o')\n",
        "plt.title('Minkowski Distance vs. r')\n",
        "plt.xlabel('r')\n",
        "plt.ylabel('Distance')\n",
        "plt.show()\n"
      ],
      "metadata": {
        "colab": {
          "base_uri": "https://localhost:8080/",
          "height": 472
        },
        "id": "0UXCBrrgqB6O",
        "outputId": "10275493-416c-4600-e9e5-29bb181d1cfd"
      },
      "execution_count": 7,
      "outputs": [
        {
          "output_type": "display_data",
          "data": {
            "text/plain": [
              "<Figure size 640x480 with 1 Axes>"
            ],
            "image/png": "[encoded data removed]"
          },
          "metadata": {}
        }
      ]
    },
    {
      "cell_type": "markdown",
      "source": [
        "4\n"
      ],
      "metadata": {
        "id": "7DXTC2RNqQO3"
      }
    },
    {
      "cell_type": "code",
      "source": [
        "import numpy as np\n",
        "from sklearn.model_selection import train_test_split\n",
        "import pandas as pd\n",
        "\n",
        "# Load the dataset\n",
        "data_path = \"/content/cancer patient data sets.csv\"\n",
        "data = pd.read_csv(data_path)\n",
        "\n",
        "# Assuming 'Level' is the target variable\n",
        "X = data.drop('Level', axis=1)  # Features\n",
        "y = data['Level']  # Target class levels\n",
        "\n",
        "# Choose any two classes from the dataset\n",
        "class1 = 'Low'\n",
        "class2 = 'Medium'\n",
        "\n",
        "# Filter the data for the selected classes\n",
        "selected_data = data[(data['Level'] == class1) | (data['Level'] == class2)]\n",
        "\n",
        "# Split the dataset into train and test sets (70% train, 30% test)\n",
        "X_train, X_test, y_train, y_test = train_test_split(\n",
        "    selected_data.drop('Level', axis=1),\n",
        "    selected_data['Level'],\n",
        "    test_size=0.3,\n",
        "    random_state=42\n",
        ")\n",
        "\n",
        "# Check the shape of the resulting sets\n",
        "print(\"X_train shape:\", X_train.shape)\n",
        "print(\"X_test shape:\", X_test.shape)\n",
        "print(\"y_train shape:\", y_train.shape)\n",
        "print(\"y_test shape:\", y_test.shape)\n"
      ],
      "metadata": {
        "colab": {
          "base_uri": "https://localhost:8080/"
        },
        "id": "0Mn9-yLJqR7Y",
        "outputId": "b8e2038c-13d5-4037-9ce3-0bca33395047"
      },
      "execution_count": 10,
      "outputs": [
        {
          "output_type": "stream",
          "name": "stdout",
          "text": [
            "X_train shape: (444, 16)\n",
            "X_test shape: (191, 16)\n",
            "y_train shape: (444,)\n",
            "y_test shape: (191,)\n"
          ]
        }
      ]
    },
    {
      "cell_type": "markdown",
      "source": [
        "5\n"
      ],
      "metadata": {
        "id": "5Cu74iVoreXJ"
      }
    },
    {
      "cell_type": "code",
      "source": [
        "import numpy as np\n",
        "from sklearn.neighbors import KNeighborsClassifier\n",
        "from sklearn.model_selection import train_test_split\n",
        "from sklearn.preprocessing import LabelEncoder, OneHotEncoder\n",
        "import pandas as pd\n",
        "\n",
        "# Load the dataset\n",
        "data_path = \"/content/cancer patient data sets.csv\"\n",
        "data = pd.read_csv(data_path)\n",
        "\n",
        "# Assuming 'Level' is the target variable\n",
        "X = data.drop('Level', axis=1)  # Features\n",
        "y = data['Level']  # Target class levels\n",
        "\n",
        "# Choose any two classes from the dataset\n",
        "class1 = 'Low'\n",
        "class2 = 'Medium'\n",
        "\n",
        "# Filter the data for the selected classes\n",
        "selected_data = data[(data['Level'] == class1) | (data['Level'] == class2)]\n",
        "\n",
        "# Extract numerical features and labels\n",
        "X_selected = selected_data.drop('Level', axis=1)\n",
        "y_selected = selected_data['Level']\n",
        "\n",
        "# One-hot encode categorical variables in features (X_selected)\n",
        "X_selected_encoded = pd.get_dummies(X_selected)\n",
        "\n",
        "# Split the dataset into train and test sets (70% train, 30% test)\n",
        "X_train, X_test, y_train, y_test = train_test_split(\n",
        "    X_selected_encoded,\n",
        "    y_selected,\n",
        "    test_size=0.3,\n",
        "    random_state=42\n",
        ")\n",
        "\n",
        "# Preprocess the target variable 'y_train' using LabelEncoder\n",
        "label_encoder = LabelEncoder()\n",
        "y_train_encoded = label_encoder.fit_transform(y_train)\n",
        "\n",
        "# Train a kNN classifier with k=3\n",
        "neigh = KNeighborsClassifier(n_neighbors=3)\n",
        "neigh.fit(X_train, y_train_encoded)\n",
        "\n",
        "# Now the classifier is trained and ready for predictions\n",
        "# Preprocess the target variable 'y_test' using LabelEncoder for making predictions\n",
        "y_test_encoded = label_encoder.transform(y_test)\n",
        "\n",
        "# Example: Make predictions on the test set\n",
        "predictions = neigh.predict(X_test)\n",
        "\n",
        "# Print the predictions\n",
        "print(\"Predictions:\", predictions)\n",
        "\n",
        "# If needed, you can inverse transform the predictions to get the original class labels\n",
        "original_predictions = label_encoder.inverse_transform(predictions)\n",
        "print(\"Original Predictions:\", original_predictions)\n",
        "\n"
      ],
      "metadata": {
        "colab": {
          "base_uri": "https://localhost:8080/"
        },
        "id": "Voy4KMshrfnl",
        "outputId": "76563cd1-4117-484c-cc40-6f9f6f5dcfaf"
      },
      "execution_count": 13,
      "outputs": [
        {
          "output_type": "stream",
          "name": "stdout",
          "text": [
            "Predictions: [0 0 1 0 1 1 0 0 1 0 0 0 0 0 0 0 1 1 0 1 0 0 1 0 0 0 0 0 0 1 1 1 1 1 1 1 0\n",
            " 0 1 1 0 1 0 0 1 1 1 1 0 0 1 1 1 0 1 0 1 1 1 1 0 0 0 1 1 0 1 0 1 1 0 0 0 0\n",
            " 0 1 1 1 0 1 1 1 0 1 1 0 1 1 0 0 0 0 1 0 0 0 1 0 1 1 0 0 1 1 1 1 0 0 0 1 0\n",
            " 0 0 1 0 1 0 0 1 0 1 1 1 0 0 0 1 0 1 0 1 1 0 0 0 1 0 1 1 1 1 1 0 1 0 1 1 1\n",
            " 1 0 0 0 0 0 0 0 0 0 0 1 0 1 1 1 1 1 0 0 1 1 1 1 1 1 1 0 1 0 0 0 0 0 1 0 1\n",
            " 0 1 0 0 1 1]\n",
            "Original Predictions: ['Low' 'Low' 'Medium' 'Low' 'Medium' 'Medium' 'Low' 'Low' 'Medium' 'Low'\n",
            " 'Low' 'Low' 'Low' 'Low' 'Low' 'Low' 'Medium' 'Medium' 'Low' 'Medium'\n",
            " 'Low' 'Low' 'Medium' 'Low' 'Low' 'Low' 'Low' 'Low' 'Low' 'Medium'\n",
            " 'Medium' 'Medium' 'Medium' 'Medium' 'Medium' 'Medium' 'Low' 'Low'\n",
            " 'Medium' 'Medium' 'Low' 'Medium' 'Low' 'Low' 'Medium' 'Medium' 'Medium'\n",
            " 'Medium' 'Low' 'Low' 'Medium' 'Medium' 'Medium' 'Low' 'Medium' 'Low'\n",
            " 'Medium' 'Medium' 'Medium' 'Medium' 'Low' 'Low' 'Low' 'Medium' 'Medium'\n",
            " 'Low' 'Medium' 'Low' 'Medium' 'Medium' 'Low' 'Low' 'Low' 'Low' 'Low'\n",
            " 'Medium' 'Medium' 'Medium' 'Low' 'Medium' 'Medium' 'Medium' 'Low'\n",
            " 'Medium' 'Medium' 'Low' 'Medium' 'Medium' 'Low' 'Low' 'Low' 'Low'\n",
            " 'Medium' 'Low' 'Low' 'Low' 'Medium' 'Low' 'Medium' 'Medium' 'Low' 'Low'\n",
            " 'Medium' 'Medium' 'Medium' 'Medium' 'Low' 'Low' 'Low' 'Medium' 'Low'\n",
            " 'Low' 'Low' 'Medium' 'Low' 'Medium' 'Low' 'Low' 'Medium' 'Low' 'Medium'\n",
            " 'Medium' 'Medium' 'Low' 'Low' 'Low' 'Medium' 'Low' 'Medium' 'Low'\n",
            " 'Medium' 'Medium' 'Low' 'Low' 'Low' 'Medium' 'Low' 'Medium' 'Medium'\n",
            " 'Medium' 'Medium' 'Medium' 'Low' 'Medium' 'Low' 'Medium' 'Medium'\n",
            " 'Medium' 'Medium' 'Low' 'Low' 'Low' 'Low' 'Low' 'Low' 'Low' 'Low' 'Low'\n",
            " 'Low' 'Medium' 'Low' 'Medium' 'Medium' 'Medium' 'Medium' 'Medium' 'Low'\n",
            " 'Low' 'Medium' 'Medium' 'Medium' 'Medium' 'Medium' 'Medium' 'Medium'\n",
            " 'Low' 'Medium' 'Low' 'Low' 'Low' 'Low' 'Low' 'Medium' 'Low' 'Medium'\n",
            " 'Low' 'Medium' 'Low' 'Low' 'Medium' 'Medium']\n"
          ]
        }
      ]
    },
    {
      "cell_type": "markdown",
      "source": [
        "6\n"
      ],
      "metadata": {
        "id": "Pqyfw10brzrU"
      }
    },
    {
      "cell_type": "code",
      "source": [
        "import numpy as np\n",
        "from sklearn.neighbors import KNeighborsClassifier\n",
        "from sklearn.model_selection import train_test_split\n",
        "from sklearn.preprocessing import LabelEncoder, OneHotEncoder\n",
        "import pandas as pd\n",
        "\n",
        "# Load the dataset\n",
        "data_path = \"/content/cancer patient data sets.csv\"\n",
        "data = pd.read_csv(data_path)\n",
        "\n",
        "# Assuming 'Level' is the target variable\n",
        "X = data.drop('Level', axis=1)  # Features\n",
        "y = data['Level']  # Target class levels\n",
        "\n",
        "# Choose any two classes from the dataset\n",
        "class1 = 'Low'\n",
        "class2 = 'Medium'\n",
        "\n",
        "# Filter the data for the selected classes\n",
        "selected_data = data[(data['Level'] == class1) | (data['Level'] == class2)]\n",
        "\n",
        "# Extract numerical features and labels\n",
        "X_selected = selected_data.drop('Level', axis=1)\n",
        "y_selected = selected_data['Level']\n",
        "\n",
        "# One-hot encode categorical variables in features (X_selected)\n",
        "X_selected_encoded = pd.get_dummies(X_selected)\n",
        "\n",
        "# Split the dataset into train and test sets (70% train, 30% test)\n",
        "X_train, X_test, y_train, y_test = train_test_split(\n",
        "    X_selected_encoded,\n",
        "    y_selected,\n",
        "    test_size=0.3,\n",
        "    random_state=42\n",
        ")\n",
        "\n",
        "# Preprocess the target variable 'y_train' using LabelEncoder\n",
        "label_encoder = LabelEncoder()\n",
        "y_train_encoded = label_encoder.fit_transform(y_train)\n",
        "\n",
        "# Train a kNN classifier with k=3\n",
        "neigh = KNeighborsClassifier(n_neighbors=3)\n",
        "neigh.fit(X_train, y_train_encoded)\n",
        "\n",
        "# Now the classifier is trained and ready for predictions\n",
        "# Preprocess the target variable 'y_test' using LabelEncoder for making predictions\n",
        "y_test_encoded = label_encoder.transform(y_test)\n",
        "\n",
        "# Example: Make predictions on the test set\n",
        "predictions = neigh.predict(X_test)\n",
        "\n",
        "# Print the predictions\n",
        "print(\"Predictions:\", predictions)\n",
        "\n",
        "# If needed, you can inverse transform the predictions to get the original class labels\n",
        "original_predictions = label_encoder.inverse_transform(predictions)\n",
        "print(\"Original Predictions:\", original_predictions)\n",
        "\n",
        "# Example: Test the accuracy of the kNN classifier using the test set\n",
        "accuracy = neigh.score(X_test, y_test_encoded)\n",
        "\n",
        "# Print the accuracy\n",
        "print(\"Accuracy:\", accuracy)\n"
      ],
      "metadata": {
        "colab": {
          "base_uri": "https://localhost:8080/"
        },
        "id": "TWEM7c17r0wo",
        "outputId": "23c0d0f7-bac0-4139-e205-ed74d8f2704e"
      },
      "execution_count": 14,
      "outputs": [
        {
          "output_type": "stream",
          "name": "stdout",
          "text": [
            "Predictions: [0 0 1 0 1 1 0 0 1 0 0 0 0 0 0 0 1 1 0 1 0 0 1 0 0 0 0 0 0 1 1 1 1 1 1 1 0\n",
            " 0 1 1 0 1 0 0 1 1 1 1 0 0 1 1 1 0 1 0 1 1 1 1 0 0 0 1 1 0 1 0 1 1 0 0 0 0\n",
            " 0 1 1 1 0 1 1 1 0 1 1 0 1 1 0 0 0 0 1 0 0 0 1 0 1 1 0 0 1 1 1 1 0 0 0 1 0\n",
            " 0 0 1 0 1 0 0 1 0 1 1 1 0 0 0 1 0 1 0 1 1 0 0 0 1 0 1 1 1 1 1 0 1 0 1 1 1\n",
            " 1 0 0 0 0 0 0 0 0 0 0 1 0 1 1 1 1 1 0 0 1 1 1 1 1 1 1 0 1 0 0 0 0 0 1 0 1\n",
            " 0 1 0 0 1 1]\n",
            "Original Predictions: ['Low' 'Low' 'Medium' 'Low' 'Medium' 'Medium' 'Low' 'Low' 'Medium' 'Low'\n",
            " 'Low' 'Low' 'Low' 'Low' 'Low' 'Low' 'Medium' 'Medium' 'Low' 'Medium'\n",
            " 'Low' 'Low' 'Medium' 'Low' 'Low' 'Low' 'Low' 'Low' 'Low' 'Medium'\n",
            " 'Medium' 'Medium' 'Medium' 'Medium' 'Medium' 'Medium' 'Low' 'Low'\n",
            " 'Medium' 'Medium' 'Low' 'Medium' 'Low' 'Low' 'Medium' 'Medium' 'Medium'\n",
            " 'Medium' 'Low' 'Low' 'Medium' 'Medium' 'Medium' 'Low' 'Medium' 'Low'\n",
            " 'Medium' 'Medium' 'Medium' 'Medium' 'Low' 'Low' 'Low' 'Medium' 'Medium'\n",
            " 'Low' 'Medium' 'Low' 'Medium' 'Medium' 'Low' 'Low' 'Low' 'Low' 'Low'\n",
            " 'Medium' 'Medium' 'Medium' 'Low' 'Medium' 'Medium' 'Medium' 'Low'\n",
            " 'Medium' 'Medium' 'Low' 'Medium' 'Medium' 'Low' 'Low' 'Low' 'Low'\n",
            " 'Medium' 'Low' 'Low' 'Low' 'Medium' 'Low' 'Medium' 'Medium' 'Low' 'Low'\n",
            " 'Medium' 'Medium' 'Medium' 'Medium' 'Low' 'Low' 'Low' 'Medium' 'Low'\n",
            " 'Low' 'Low' 'Medium' 'Low' 'Medium' 'Low' 'Low' 'Medium' 'Low' 'Medium'\n",
            " 'Medium' 'Medium' 'Low' 'Low' 'Low' 'Medium' 'Low' 'Medium' 'Low'\n",
            " 'Medium' 'Medium' 'Low' 'Low' 'Low' 'Medium' 'Low' 'Medium' 'Medium'\n",
            " 'Medium' 'Medium' 'Medium' 'Low' 'Medium' 'Low' 'Medium' 'Medium'\n",
            " 'Medium' 'Medium' 'Low' 'Low' 'Low' 'Low' 'Low' 'Low' 'Low' 'Low' 'Low'\n",
            " 'Low' 'Medium' 'Low' 'Medium' 'Medium' 'Medium' 'Medium' 'Medium' 'Low'\n",
            " 'Low' 'Medium' 'Medium' 'Medium' 'Medium' 'Medium' 'Medium' 'Medium'\n",
            " 'Low' 'Medium' 'Low' 'Low' 'Low' 'Low' 'Low' 'Medium' 'Low' 'Medium'\n",
            " 'Low' 'Medium' 'Low' 'Low' 'Medium' 'Medium']\n",
            "Accuracy: 0.8167539267015707\n"
          ]
        }
      ]
    },
    {
      "cell_type": "markdown",
      "source": [
        "7\n"
      ],
      "metadata": {
        "id": "ikwPx1dQwBqP"
      }
    },
    {
      "cell_type": "code",
      "source": [
        "import numpy as np\n",
        "from sklearn.neighbors import KNeighborsClassifier\n",
        "from sklearn.model_selection import train_test_split\n",
        "from sklearn.preprocessing import LabelEncoder, OneHotEncoder\n",
        "import pandas as pd\n",
        "\n",
        "# Load the dataset\n",
        "data_path = \"/content/cancer patient data sets.csv\"\n",
        "data = pd.read_csv(data_path)\n",
        "\n",
        "# Assuming 'Level' is the target variable\n",
        "X = data.drop('Level', axis=1)  # Features\n",
        "y = data['Level']  # Target class levels\n",
        "\n",
        "# Choose any two classes from the dataset\n",
        "class1 = 'Low'\n",
        "class2 = 'Medium'\n",
        "\n",
        "# Filter the data for the selected classes\n",
        "selected_data = data[(data['Level'] == class1) | (data['Level'] == class2)]\n",
        "\n",
        "# Extract numerical features and labels\n",
        "X_selected = selected_data.drop('Level', axis=1)\n",
        "y_selected = selected_data['Level']\n",
        "\n",
        "# One-hot encode categorical variables in features (X_selected)\n",
        "X_selected_encoded = pd.get_dummies(X_selected)\n",
        "\n",
        "# Split the dataset into train and test sets (70% train, 30% test)\n",
        "X_train, X_test, y_train, y_test = train_test_split(\n",
        "    X_selected_encoded,\n",
        "    y_selected,\n",
        "    test_size=0.3,\n",
        "    random_state=42\n",
        ")\n",
        "\n",
        "# Preprocess the target variable 'y_train' using LabelEncoder\n",
        "label_encoder = LabelEncoder()\n",
        "y_train_encoded = label_encoder.fit_transform(y_train)\n",
        "\n",
        "# Train a kNN classifier with k=3\n",
        "neigh = KNeighborsClassifier(n_neighbors=3)\n",
        "neigh.fit(X_train, y_train_encoded)\n",
        "\n",
        "# Now the classifier is trained and ready for predictions\n",
        "# Preprocess the target variable 'y_test' using LabelEncoder for making predictions\n",
        "y_test_encoded = label_encoder.transform(y_test)\n",
        "\n",
        "# Example: Make predictions on the test set\n",
        "predictions = neigh.predict(X_test)\n",
        "\n",
        "# Print the predictions\n",
        "print(\"Predictions:\", predictions)\n",
        "\n",
        "# If needed, you can inverse transform the predictions to get the original class labels\n",
        "original_predictions = label_encoder.inverse_transform(predictions)\n",
        "print(\"Original Predictions:\", original_predictions)\n",
        "\n",
        "# Example: Test the accuracy of the kNN classifier using the test set\n",
        "accuracy = neigh.score(X_test, y_test_encoded)\n",
        "print(\"Accuracy:\", accuracy)\n",
        "\n",
        "# Example: Use the predict() function to study the prediction behavior for a specific test vector\n",
        "# Choose any specific test vector (row) from the test set\n",
        "test_vector_index = 0\n",
        "test_vector = X_test.iloc[test_vector_index, :]\n",
        "\n",
        "# Reshape the test vector to match the input format expected by predict()\n",
        "reshaped_test_vector = test_vector.values.reshape(1, -1)\n",
        "\n",
        "# Use the predict() function to classify the test vector\n",
        "predicted_class = neigh.predict(reshaped_test_vector)\n",
        "\n",
        "# Print the predicted class\n",
        "print(\"Predicted Class for Test Vector:\", predicted_class)\n"
      ],
      "metadata": {
        "colab": {
          "base_uri": "https://localhost:8080/"
        },
        "id": "gmuYzXWOwC1w",
        "outputId": "d06a97ab-1d3b-4e87-d9c8-4d9835bab1e0"
      },
      "execution_count": 15,
      "outputs": [
        {
          "output_type": "stream",
          "name": "stdout",
          "text": [
            "Predictions: [0 0 1 0 1 1 0 0 1 0 0 0 0 0 0 0 1 1 0 1 0 0 1 0 0 0 0 0 0 1 1 1 1 1 1 1 0\n",
            " 0 1 1 0 1 0 0 1 1 1 1 0 0 1 1 1 0 1 0 1 1 1 1 0 0 0 1 1 0 1 0 1 1 0 0 0 0\n",
            " 0 1 1 1 0 1 1 1 0 1 1 0 1 1 0 0 0 0 1 0 0 0 1 0 1 1 0 0 1 1 1 1 0 0 0 1 0\n",
            " 0 0 1 0 1 0 0 1 0 1 1 1 0 0 0 1 0 1 0 1 1 0 0 0 1 0 1 1 1 1 1 0 1 0 1 1 1\n",
            " 1 0 0 0 0 0 0 0 0 0 0 1 0 1 1 1 1 1 0 0 1 1 1 1 1 1 1 0 1 0 0 0 0 0 1 0 1\n",
            " 0 1 0 0 1 1]\n",
            "Original Predictions: ['Low' 'Low' 'Medium' 'Low' 'Medium' 'Medium' 'Low' 'Low' 'Medium' 'Low'\n",
            " 'Low' 'Low' 'Low' 'Low' 'Low' 'Low' 'Medium' 'Medium' 'Low' 'Medium'\n",
            " 'Low' 'Low' 'Medium' 'Low' 'Low' 'Low' 'Low' 'Low' 'Low' 'Medium'\n",
            " 'Medium' 'Medium' 'Medium' 'Medium' 'Medium' 'Medium' 'Low' 'Low'\n",
            " 'Medium' 'Medium' 'Low' 'Medium' 'Low' 'Low' 'Medium' 'Medium' 'Medium'\n",
            " 'Medium' 'Low' 'Low' 'Medium' 'Medium' 'Medium' 'Low' 'Medium' 'Low'\n",
            " 'Medium' 'Medium' 'Medium' 'Medium' 'Low' 'Low' 'Low' 'Medium' 'Medium'\n",
            " 'Low' 'Medium' 'Low' 'Medium' 'Medium' 'Low' 'Low' 'Low' 'Low' 'Low'\n",
            " 'Medium' 'Medium' 'Medium' 'Low' 'Medium' 'Medium' 'Medium' 'Low'\n",
            " 'Medium' 'Medium' 'Low' 'Medium' 'Medium' 'Low' 'Low' 'Low' 'Low'\n",
            " 'Medium' 'Low' 'Low' 'Low' 'Medium' 'Low' 'Medium' 'Medium' 'Low' 'Low'\n",
            " 'Medium' 'Medium' 'Medium' 'Medium' 'Low' 'Low' 'Low' 'Medium' 'Low'\n",
            " 'Low' 'Low' 'Medium' 'Low' 'Medium' 'Low' 'Low' 'Medium' 'Low' 'Medium'\n",
            " 'Medium' 'Medium' 'Low' 'Low' 'Low' 'Medium' 'Low' 'Medium' 'Low'\n",
            " 'Medium' 'Medium' 'Low' 'Low' 'Low' 'Medium' 'Low' 'Medium' 'Medium'\n",
            " 'Medium' 'Medium' 'Medium' 'Low' 'Medium' 'Low' 'Medium' 'Medium'\n",
            " 'Medium' 'Medium' 'Low' 'Low' 'Low' 'Low' 'Low' 'Low' 'Low' 'Low' 'Low'\n",
            " 'Low' 'Medium' 'Low' 'Medium' 'Medium' 'Medium' 'Medium' 'Medium' 'Low'\n",
            " 'Low' 'Medium' 'Medium' 'Medium' 'Medium' 'Medium' 'Medium' 'Medium'\n",
            " 'Low' 'Medium' 'Low' 'Low' 'Low' 'Low' 'Low' 'Medium' 'Low' 'Medium'\n",
            " 'Low' 'Medium' 'Low' 'Low' 'Medium' 'Medium']\n",
            "Accuracy: 0.8167539267015707\n",
            "Predicted Class for Test Vector: [0]\n"
          ]
        },
        {
          "output_type": "stream",
          "name": "stderr",
          "text": [
            "/usr/local/lib/python3.10/dist-packages/sklearn/base.py:439: UserWarning: X does not have valid feature names, but KNeighborsClassifier was fitted with feature names\n",
            "  warnings.warn(\n"
          ]
        }
      ]
    },
    {
      "cell_type": "markdown",
      "source": [
        "8\n"
      ],
      "metadata": {
        "id": "qt3MHEAbyVus"
      }
    },
    {
      "cell_type": "code",
      "source": [
        "import numpy as np\n",
        "import matplotlib.pyplot as plt\n",
        "from sklearn.neighbors import KNeighborsClassifier\n",
        "from sklearn.model_selection import train_test_split\n",
        "from sklearn.preprocessing import LabelEncoder\n",
        "import pandas as pd\n",
        "\n",
        "# Load the dataset\n",
        "data_path = \"/content/cancer patient data sets.csv\"\n",
        "data = pd.read_csv(data_path)\n",
        "\n",
        "# Assuming 'Level' is the target variable\n",
        "X = data.drop('Level', axis=1)  # Features\n",
        "y = data['Level']  # Target class levels\n",
        "\n",
        "# Choose any two classes from the dataset\n",
        "class1 = 'Low'\n",
        "class2 = 'Medium'\n",
        "\n",
        "# Filter the data for the selected classes\n",
        "selected_data = data[(data['Level'] == class1) | (data['Level'] == class2)]\n",
        "\n",
        "# Extract numerical features and labels\n",
        "X_selected = selected_data.drop('Level', axis=1)\n",
        "y_selected = selected_data['Level']\n",
        "\n",
        "# One-hot encode categorical variables in features (X_selected)\n",
        "X_selected_encoded = pd.get_dummies(X_selected)\n",
        "\n",
        "# Split the dataset into train and test sets (70% train, 30% test)\n",
        "X_train, X_test, y_train, y_test = train_test_split(\n",
        "    X_selected_encoded,\n",
        "    y_selected,\n",
        "    test_size=0.3,\n",
        "    random_state=42\n",
        ")\n",
        "\n",
        "# Preprocess the target variable 'y_train' using LabelEncoder\n",
        "label_encoder = LabelEncoder()\n",
        "y_train_encoded = label_encoder.fit_transform(y_train)\n",
        "\n",
        "# Vary k from 1 to 11\n",
        "k_values = range(1, 12)\n",
        "accuracy_scores_nn = []\n",
        "accuracy_scores_knn = []\n",
        "\n",
        "for k in k_values:\n",
        "    # Train a Nearest Neighbors (NN) classifier with k\n",
        "    nn_classifier = KNeighborsClassifier(n_neighbors=1)\n",
        "    nn_classifier.fit(X_train, y_train_encoded)\n",
        "\n",
        "    # Train a kNN classifier with k\n",
        "    knn_classifier = KNeighborsClassifier(n_neighbors=k)\n",
        "    knn_classifier.fit(X_train, y_train_encoded)\n",
        "\n",
        "    # Test accuracy for Nearest Neighbors (NN)\n",
        "    accuracy_nn = nn_classifier.score(X_test, label_encoder.transform(y_test))\n",
        "    accuracy_scores_nn.append(accuracy_nn)\n",
        "\n",
        "    # Test accuracy for kNN\n",
        "    accuracy_knn = knn_classifier.score(X_test, label_encoder.transform(y_test))\n",
        "    accuracy_scores_knn.append(accuracy_knn)\n",
        "\n",
        "# Plotting the accuracy comparison\n",
        "plt.plot(k_values, accuracy_scores_nn, label='Nearest Neighbors (NN)')\n",
        "plt.plot(k_values, accuracy_scores_knn, label='kNN (k=3)')\n",
        "plt.xlabel('k (Number of Neighbors)')\n",
        "plt.ylabel('Accuracy')\n",
        "plt.title('Accuracy Comparison: Nearest Neighbors vs kNN')\n",
        "plt.legend()\n",
        "plt.show()\n"
      ],
      "metadata": {
        "colab": {
          "base_uri": "https://localhost:8080/",
          "height": 472
        },
        "id": "pTb1NlHPyXcF",
        "outputId": "6a881a75-5c2c-4e3b-f334-c0e104e500f6"
      },
      "execution_count": 16,
      "outputs": [
        {
          "output_type": "display_data",
          "data": {
            "text/plain": [
              "<Figure size 640x480 with 1 Axes>"
            ],
            "image/png": "[encoded data removed]"
          },
          "metadata": {}
        }
      ]
    },
    {
      "cell_type": "markdown",
      "source": [
        "9\n"
      ],
      "metadata": {
        "id": "E6P1FpbFzd5S"
      }
    },
    {
      "cell_type": "code",
      "source": [
        "import numpy as np\n",
        "import matplotlib.pyplot as plt\n",
        "from sklearn.neighbors import KNeighborsClassifier\n",
        "from sklearn.metrics import confusion_matrix, precision_score, recall_score, f1_score\n",
        "from sklearn.model_selection import train_test_split\n",
        "from sklearn.preprocessing import LabelEncoder, OneHotEncoder\n",
        "import pandas as pd\n",
        "\n",
        "# Load the dataset\n",
        "data_path = \"/content/cancer patient data sets.csv\"\n",
        "data = pd.read_csv(data_path)\n",
        "\n",
        "# Assuming 'Level' is the target variable\n",
        "X = data.drop('Level', axis=1)  # Features\n",
        "y = data['Level']  # Target class levels\n",
        "\n",
        "# Choose any two classes from the dataset\n",
        "class1 = 'Low'\n",
        "class2 = 'Medium'\n",
        "\n",
        "# Filter the data for the selected classes\n",
        "selected_data = data[(data['Level'] == class1) | (data['Level'] == class2)]\n",
        "\n",
        "# Extract numerical features and labels\n",
        "X_selected = selected_data.drop('Level', axis=1)\n",
        "y_selected = selected_data['Level']\n",
        "\n",
        "# One-hot encode categorical variables in features (X_selected)\n",
        "X_selected_encoded = pd.get_dummies(X_selected)\n",
        "\n",
        "# Split the dataset into train and test sets (70% train, 30% test)\n",
        "X_train, X_test, y_train, y_test = train_test_split(\n",
        "    X_selected_encoded,\n",
        "    y_selected,\n",
        "    test_size=0.3,\n",
        "    random_state=42\n",
        ")\n",
        "\n",
        "# Preprocess the target variable 'y_train' using LabelEncoder\n",
        "label_encoder = LabelEncoder()\n",
        "y_train_encoded = label_encoder.fit_transform(y_train)\n",
        "\n",
        "# Vary k from 1 to 11 and evaluate accuracy\n",
        "k_values = range(1, 12)\n",
        "train_accuracies = []\n",
        "test_accuracies = []\n",
        "\n",
        "for k in k_values:\n",
        "    # Train a kNN classifier\n",
        "    neigh = KNeighborsClassifier(n_neighbors=k)\n",
        "    neigh.fit(X_train, y_train_encoded)\n",
        "\n",
        "    # Evaluate accuracy on training set\n",
        "    train_accuracy = neigh.score(X_train, y_train_encoded)\n",
        "    train_accuracies.append(train_accuracy)\n",
        "\n",
        "    # Evaluate accuracy on test set\n",
        "    test_accuracy = neigh.score(X_test, label_encoder.transform(y_test))\n",
        "    test_accuracies.append(test_accuracy)\n",
        "\n",
        "    # Print results\n",
        "    print(f\"K = {k}, Train Accuracy: {train_accuracy:.4f}, Test Accuracy: {test_accuracy:.4f}\")\n",
        "\n",
        "# Plot the accuracy results\n",
        "plt.plot(k_values, train_accuracies, label='Train Accuracy')\n",
        "plt.plot(k_values, test_accuracies, label='Test Accuracy')\n",
        "plt.xlabel('k (Number of Neighbors)')\n",
        "plt.ylabel('Accuracy')\n",
        "plt.title('Accuracy vs k (Number of Neighbors)')\n",
        "plt.legend()\n",
        "plt.show()\n",
        "\n",
        "# Choose the best k based on test accuracy\n",
        "best_k = k_values[np.argmax(test_accuracies)]\n",
        "print(f\"The best k based on test accuracy is: {best_k}\")\n",
        "\n",
        "# Train a kNN classifier with the best k\n",
        "neigh = KNeighborsClassifier(n_neighbors=best_k)\n",
        "neigh.fit(X_train, y_train_encoded)\n",
        "\n",
        "# Make predictions on the test set\n",
        "predictions_test = neigh.predict(X_test)\n",
        "\n",
        "# Evaluate confusion matrix and performance metrics for test data\n",
        "conf_matrix_test = confusion_matrix(label_encoder.transform(y_test), predictions_test)\n",
        "precision_test = precision_score(label_encoder.transform(y_test), predictions_test)\n",
        "recall_test = recall_score(label_encoder.transform(y_test), predictions_test)\n",
        "f1_test = f1_score(label_encoder.transform(y_test), predictions_test)\n",
        "\n",
        "# Print results for test data\n",
        "print(\"Confusion Matrix (Test Data):\\n\", conf_matrix_test)\n",
        "print(\"Precision (Test Data):\", precision_test)\n",
        "print(\"Recall (Test Data):\", recall_test)\n",
        "print(\"F1-Score (Test Data):\", f1_test)\n"
      ],
      "metadata": {
        "colab": {
          "base_uri": "https://localhost:8080/",
          "height": 784
        },
        "id": "VfwgsgSHzfOG",
        "outputId": "3a071799-b282-404d-c116-9de94f34a467"
      },
      "execution_count": 17,
      "outputs": [
        {
          "output_type": "stream",
          "name": "stdout",
          "text": [
            "K = 1, Train Accuracy: 1.0000, Test Accuracy: 0.8010\n",
            "K = 2, Train Accuracy: 0.8874, Test Accuracy: 0.7749\n",
            "K = 3, Train Accuracy: 0.9167, Test Accuracy: 0.8168\n",
            "K = 4, Train Accuracy: 0.8626, Test Accuracy: 0.7592\n",
            "K = 5, Train Accuracy: 0.8964, Test Accuracy: 0.7749\n",
            "K = 6, Train Accuracy: 0.8671, Test Accuracy: 0.7435\n",
            "K = 7, Train Accuracy: 0.8716, Test Accuracy: 0.7435\n",
            "K = 8, Train Accuracy: 0.8401, Test Accuracy: 0.7435\n",
            "K = 9, Train Accuracy: 0.8378, Test Accuracy: 0.7330\n",
            "K = 10, Train Accuracy: 0.8086, Test Accuracy: 0.7382\n",
            "K = 11, Train Accuracy: 0.8198, Test Accuracy: 0.7225\n"
          ]
        },
        {
          "output_type": "display_data",
          "data": {
            "text/plain": [
              "<Figure size 640x480 with 1 Axes>"
            ],
            "image/png": "[encoded data removed]"
          },
          "metadata": {}
        },
        {
          "output_type": "stream",
          "name": "stdout",
          "text": [
            "The best k based on test accuracy is: 3\n",
            "Confusion Matrix (Test Data):\n",
            " [[79 17]\n",
            " [18 77]]\n",
            "Precision (Test Data): 0.8191489361702128\n",
            "Recall (Test Data): 0.8105263157894737\n",
            "F1-Score (Test Data): 0.8148148148148148\n"
          ]
        }
      ]
    }
  ]
}